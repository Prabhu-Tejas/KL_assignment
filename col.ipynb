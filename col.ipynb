{
 "cells": [
  {
   "cell_type": "code",
   "execution_count": 8,
   "metadata": {},
   "outputs": [
    {
     "name": "stdout",
     "output_type": "stream",
     "text": [
      "Col1: Cluster, Col2: House, Col3: Intermediate \n",
      "Col1: 4-sty, Col2: Terrace/Link House, Col3: Penthouse \n",
      "Col1: 3-sty, Col2: Terrace/Link House, Col3: Triplex \n",
      "Col1: 2-sty, Col2: Terrace/Link House, Col3: Penthouse \n",
      "Col1: 4.5-sty, Col2: Terrace/Link House, Col3: Corner \n"
     ]
    }
   ],
   "source": [
    "data = [\n",
    "    \"Cluster House (Intermediate)\",\n",
    "    \"4-sty Terrace/Link House (Penthouse)\",\n",
    "    \"3-sty Terrace/Link House (Triplex)\",\n",
    "    \"2-sty Terrace/Link House (Penthouse)\",\n",
    "    \"4.5-sty Terrace/Link House (Corner)\"\n",
    "]\n",
    "\n",
    "# Define lists to store values for each column\n",
    "col1 = []\n",
    "col2 = []\n",
    "col3 = []\n",
    "\n",
    "# Iterate through each line of data\n",
    "for line in data:\n",
    "    # Split the line into three parts based on parentheses\n",
    "    parts = line.split(\" (\")\n",
    "    \n",
    "    # Split the second part further based on the forward slash\n",
    "    part2_split = parts[0].split(\" \", maxsplit=1)\n",
    "    \n",
    "    # Append values to respective columns\n",
    "    col1.append(part2_split[0].strip())\n",
    "    col2.append(part2_split[1].strip())\n",
    "    col3.append(parts[1].replace(\")\", \"\").strip())\n",
    "\n",
    "for i in range(len(col1)):\n",
    "    print(f\"Col1: {col1[i]}, Col2: {col2[i]}, Col3: {col3[i]} \")\n",
    "\n",
    "# Printing the result"
   ]
  },
  {
   "cell_type": "code",
   "execution_count": 11,
   "metadata": {},
   "outputs": [
    {
     "ename": "ValueError",
     "evalue": "not enough values to unpack (expected 2, got 1)",
     "output_type": "error",
     "traceback": [
      "\u001b[0;31m---------------------------------------------------------------------------\u001b[0m",
      "\u001b[0;31mValueError\u001b[0m                                Traceback (most recent call last)",
      "Cell \u001b[0;32mIn[11], line 10\u001b[0m\n\u001b[1;32m      7\u001b[0m first_part \u001b[38;5;241m=\u001b[39m split_value[\u001b[38;5;241m0\u001b[39m]\n\u001b[1;32m      9\u001b[0m \u001b[38;5;66;03m# Splitting the first part based on hyphen to separate number and style\u001b[39;00m\n\u001b[0;32m---> 10\u001b[0m number, style \u001b[38;5;241m=\u001b[39m first_part\u001b[38;5;241m.\u001b[39msplit(\u001b[38;5;124m\"\u001b[39m\u001b[38;5;124m-\u001b[39m\u001b[38;5;124m\"\u001b[39m)\n\u001b[1;32m     12\u001b[0m \u001b[38;5;66;03m# Extracting the second part which contains the additional info\u001b[39;00m\n\u001b[1;32m     13\u001b[0m additional_info \u001b[38;5;241m=\u001b[39m split_value[\u001b[38;5;241m1\u001b[39m][:\u001b[38;5;241m-\u001b[39m\u001b[38;5;241m1\u001b[39m]  \u001b[38;5;66;03m# Removing the closing parenthesis\u001b[39;00m\n",
      "\u001b[0;31mValueError\u001b[0m: not enough values to unpack (expected 2, got 1)"
     ]
    }
   ],
   "source": [
    "input_value = \"Cluster House (Intermediate)\"\n",
    "\n",
    "# Splitting the input based on parentheses\n",
    "split_value = input_value.split(\" (\")\n",
    "\n",
    "# Extracting the first part which contains the number and style\n",
    "first_part = split_value[0]\n",
    "\n",
    "# Splitting the first part based on hyphen to separate number and style\n",
    "number, style = first_part.split(\"-\")\n",
    "\n",
    "# Extracting the second part which contains the additional info\n",
    "additional_info = split_value[1][:-1]  # Removing the closing parenthesis\n",
    "\n",
    "# Splitting the additional info based on commas and spaces\n",
    "additional_info_parts = additional_info.split(\", \")\n",
    "\n",
    "# Assigning values to columns\n",
    "col1 = number\n",
    "col2 = style\n",
    "col3 = additional_info_parts[0] if additional_info_parts else \"\"\n",
    "\n",
    "# Printing the values for verification\n",
    "print(\"col1 =\", col1)\n",
    "print(\"col2 =\", col2)\n",
    "print(\"col3 =\", col3)"
   ]
  },
  {
   "cell_type": "code",
   "execution_count": 17,
   "metadata": {},
   "outputs": [
    {
     "name": "stdout",
     "output_type": "stream",
     "text": [
      "col1 = ['Cluster', '4-sty', '3-sty', '2-sty', '4.5-sty', 'Condominium', 'Serviced', 'Serviced']\n",
      "col2 = ['House', 'Terrace/Link House', 'Terrace/Link House', 'Terrace/Link House', 'Terrace/Link House', '(Corner)', 'Residence', 'Residence']\n",
      "col3 = ['(Intermediate)', '(Penthouse)', '(Triplex)', '(Penthouse)', '(Corner)', '(Corner)', 'Residence', 'Residence']\n"
     ]
    }
   ],
   "source": [
    "# Define the list of values\n",
    "values = [\n",
    "    \"Cluster House (Intermediate)\",\n",
    "    \"4-sty Terrace/Link House (Penthouse)\",\n",
    "    \"3-sty Terrace/Link House (Triplex)\",\n",
    "    \"2-sty Terrace/Link House (Penthouse)\",\n",
    "    \"4.5-sty Terrace/Link House (Corner)\",\n",
    "    \"Condominium (Corner)\",\n",
    "    \"Serviced Residence\",\n",
    "    \"Serviced Residence\"\n",
    "]\n",
    "\n",
    "# Initialize empty lists for each column\n",
    "col1 = []\n",
    "col2 = []\n",
    "col3 = []\n",
    "\n",
    "# Iterate through the values and split them into columns\n",
    "for value in values:\n",
    "    # Split the value by spaces\n",
    "    parts = value.split()\n",
    "    # Extract relevant parts for each column\n",
    "    col1_value = parts[0] if len(parts) > 1 else \"\"\n",
    "    col2_value = \" \".join(parts[1:-1]) if len(parts) > 2 else parts[1]\n",
    "    col3_value = parts[-1] if len(parts) > 1 else \"\"\n",
    "    # Append values to respective columns\n",
    "    col1.append(col1_value)\n",
    "    col2.append(col2_value)\n",
    "    col3.append(col3_value)\n",
    "\n",
    "# Display the result\n",
    "print(\"col1 =\", col1)\n",
    "print(\"col2 =\", col2)\n",
    "print(\"col3 =\", col3)\n"
   ]
  }
 ],
 "metadata": {
  "kernelspec": {
   "display_name": "base",
   "language": "python",
   "name": "python3"
  },
  "language_info": {
   "codemirror_mode": {
    "name": "ipython",
    "version": 3
   },
   "file_extension": ".py",
   "mimetype": "text/x-python",
   "name": "python",
   "nbconvert_exporter": "python",
   "pygments_lexer": "ipython3",
   "version": "3.11.5"
  }
 },
 "nbformat": 4,
 "nbformat_minor": 2
}
